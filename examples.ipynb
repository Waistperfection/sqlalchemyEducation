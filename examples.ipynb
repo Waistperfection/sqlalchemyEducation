{
 "cells": [
  {
   "cell_type": "code",
   "execution_count": 12,
   "metadata": {},
   "outputs": [],
   "source": [
    "from models import WorkerOrm, ResumeOrm, Workload\n",
    "from schema import ResumeDTO, ResumeRelDTO, WorkerDTO, WorkersRelDTO\n",
    "from database import session_factory, sync_engine\n",
    "\n",
    "from sqlalchemy import select, func, and_, or_, Integer\n",
    "from sqlalchemy.orm import selectinload"
   ]
  },
  {
   "cell_type": "markdown",
   "metadata": {},
   "source": [
    "*Без relationship*"
   ]
  },
  {
   "cell_type": "code",
   "execution_count": 15,
   "metadata": {},
   "outputs": [
    {
     "name": "stdout",
     "output_type": "stream",
     "text": [
      "result_orm=[<WorkerOrm, id=2, username=John>, <WorkerOrm, id=1, username=Michanya>, <WorkerOrm, id=3, username=Artem>, <WorkerOrm, id=4, username=Roman>, <WorkerOrm, id=5, username=Petr>]\n",
      "item=WorkerDTO(username='John', id=2)\n",
      "item=WorkerDTO(username='Michanya', id=1)\n",
      "item=WorkerDTO(username='Artem', id=3)\n",
      "item=WorkerDTO(username='Roman', id=4)\n",
      "item=WorkerDTO(username='Petr', id=5)\n"
     ]
    }
   ],
   "source": [
    "with session_factory() as session:\n",
    "    query = (\n",
    "        select(WorkerOrm)\n",
    "    )\n",
    "    res = session.execute(query)\n",
    "    result_orm = res.scalars().all()\n",
    "\n",
    "    print(f\"{result_orm=}\")\n",
    "\n",
    "result_dto = [WorkerDTO.model_validate(row, from_attributes=True) for row in result_orm]\n",
    "for item in result_dto: print(f\"{item=}\")\n"
   ]
  },
  {
   "cell_type": "markdown",
   "metadata": {},
   "source": [
    "***С relationship***"
   ]
  },
  {
   "cell_type": "code",
   "execution_count": 18,
   "metadata": {},
   "outputs": [
    {
     "name": "stdout",
     "output_type": "stream",
     "text": [
      "result_orm=[<WorkerOrm, id=2, username=John>, <WorkerOrm, id=1, username=Michanya>]\n",
      "username='John' id=2 resumes=[ResumeDTO(title='Python Data Engineer', compensation=250000, workload=<Workload.parttime: 'parttime'>, worker_id=2, id=3, created_at=datetime.datetime(2024, 5, 3, 11, 33, 38, 242699), updated_at=datetime.datetime(2024, 5, 3, 11, 33, 38, 242699)), ResumeDTO(title='Data Scientist', compensation=300000, workload=<Workload.fulltime: 'fulltime'>, worker_id=2, id=4, created_at=datetime.datetime(2024, 5, 3, 11, 33, 38, 242699), updated_at=datetime.datetime(2024, 5, 3, 11, 33, 38, 242699))]\n",
      "username='Michanya' id=1 resumes=[ResumeDTO(title='Python Junior Developer', compensation=50000, workload=<Workload.fulltime: 'fulltime'>, worker_id=1, id=1, created_at=datetime.datetime(2024, 5, 3, 11, 33, 38, 242699), updated_at=datetime.datetime(2024, 5, 3, 11, 33, 38, 242699)), ResumeDTO(title='Python Разработчик', compensation=150000, workload=<Workload.fulltime: 'fulltime'>, worker_id=1, id=2, created_at=datetime.datetime(2024, 5, 3, 11, 33, 38, 242699), updated_at=datetime.datetime(2024, 5, 3, 11, 33, 38, 242699))]\n"
     ]
    }
   ],
   "source": [
    "with session_factory() as session:\n",
    "    query = (\n",
    "        select(WorkerOrm)\n",
    "        .options(selectinload(WorkerOrm.resumes))\n",
    "        .limit(2)\n",
    "    )\n",
    "    res = session.execute(query)\n",
    "    result_orm = res.scalars().all()\n",
    "print(f\"{result_orm=}\")\n",
    "result_dto = [WorkersRelDTO.model_validate(row, from_attributes=True) for row in result_orm]\n",
    "for item in result_dto: print(item)\n"
   ]
  },
  {
   "cell_type": "markdown",
   "metadata": {},
   "source": [
    "***JOIN***"
   ]
  },
  {
   "cell_type": "code",
   "execution_count": 22,
   "metadata": {},
   "outputs": [
    {
     "name": "stdout",
     "output_type": "stream",
     "text": [
      "result=[(<Workload.parttime: 'parttime'>, 165000), (<Workload.fulltime: 'fulltime'>, 90000)]\n"
     ]
    }
   ],
   "source": [
    "with session_factory() as session:\n",
    "    query = (\n",
    "        select(\n",
    "            ResumeOrm.workload,\n",
    "            func.avg(ResumeOrm.compensation).cast(Integer).label(\"avg_compensation\"),               \n",
    "    )\n",
    "    .select_from(ResumeOrm)\n",
    "    .filter(and_(\n",
    "        ResumeOrm.title.icontains(\"python\"),\n",
    "        ResumeOrm.compensation > 40000\n",
    "    ))\n",
    "    .group_by(ResumeOrm.workload)\n",
    "    .having(func.avg(ResumeOrm.compensation) > 70000)\n",
    "    )\n",
    "    res = session.execute(query)\n",
    "    result_orm = res.all()\n",
    "    print(f\"{result=}\")\n"
   ]
  },
  {
   "cell_type": "code",
   "execution_count": 24,
   "metadata": {},
   "outputs": [
    {
     "name": "stdout",
     "output_type": "stream",
     "text": [
      "result_dto=[WorkloadAvgCompensationDTO(workload=<Workload.parttime: 'parttime'>, avg_compensation=165000), WorkloadAvgCompensationDTO(workload=<Workload.fulltime: 'fulltime'>, avg_compensation=90000)]\n"
     ]
    }
   ],
   "source": [
    "from pydantic import BaseModel\n",
    "\n",
    "class WorkloadAvgCompensationDTO(BaseModel):\n",
    "    workload: Workload\n",
    "    avg_compensation: int\n",
    "\n",
    "result_dto = [WorkloadAvgCompensationDTO.model_validate(row, from_attributes=True) for row in result_orm]\n",
    "print(f\"{result_dto=}\")"
   ]
  },
  {
   "cell_type": "code",
   "execution_count": 32,
   "metadata": {},
   "outputs": [
    {
     "name": "stdout",
     "output_type": "stream",
     "text": [
      "1\n"
     ]
    }
   ],
   "source": [
    "print(1 or 1 and print(\"hello world\"))"
   ]
  }
 ],
 "metadata": {
  "kernelspec": {
   "display_name": "venv",
   "language": "python",
   "name": "python3"
  },
  "language_info": {
   "codemirror_mode": {
    "name": "ipython",
    "version": 3
   },
   "file_extension": ".py",
   "mimetype": "text/x-python",
   "name": "python",
   "nbconvert_exporter": "python",
   "pygments_lexer": "ipython3",
   "version": "3.11.4"
  }
 },
 "nbformat": 4,
 "nbformat_minor": 2
}
